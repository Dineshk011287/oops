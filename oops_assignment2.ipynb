{
 "cells": [
  {
   "cell_type": "markdown",
   "metadata": {},
   "source": [
    "### Q1. What is Abstraction in OOps? Explain with an example."
   ]
  },
  {
   "cell_type": "markdown",
   "metadata": {},
   "source": [
    "- Abstraction is one of the four pillars of Object-Oriented Programming (OOP) and is a fundamental concept that allows developers to create simplified representations of objects and their behavior while hiding the unnecessary complexities. Abstraction focuses on showing only the relevant features of an object and abstracting away the implementation details."
   ]
  },
  {
   "cell_type": "code",
   "execution_count": 1,
   "metadata": {},
   "outputs": [
    {
     "name": "stdout",
     "output_type": "stream",
     "text": [
      "Area of the Circle: 78.5\n",
      "Area of the Square: 16\n"
     ]
    }
   ],
   "source": [
    "# Here's an example to demonstrate abstraction using an abstract class:\n",
    "\n",
    "from abc import ABC, abstractmethod\n",
    "\n",
    "# Abstract class with an abstract method\n",
    "class Shape(ABC):\n",
    "    @abstractmethod\n",
    "    def area(self):\n",
    "        pass\n",
    "\n",
    "# Concrete subclass of the abstract class\n",
    "class Circle(Shape):\n",
    "    def __init__(self, radius):\n",
    "        self.radius = radius\n",
    "\n",
    "    def area(self):\n",
    "        return 3.14 * self.radius**2\n",
    "\n",
    "# Concrete subclass of the abstract class\n",
    "class Square(Shape):\n",
    "    def __init__(self, side):\n",
    "        self.side = side\n",
    "\n",
    "    def area(self):\n",
    "        return self.side**2\n",
    "\n",
    "# Creating instances of the subclasses\n",
    "circle = Circle(5)\n",
    "square = Square(4)\n",
    "\n",
    "# Calling the 'area()' method on the instances\n",
    "print(\"Area of the Circle:\", circle.area())   \n",
    "print(\"Area of the Square:\", square.area())   "
   ]
  },
  {
   "cell_type": "markdown",
   "metadata": {},
   "source": [
    "In this example, we have an abstract class Shape with an abstract method area(). The Shape class defines the concept of a shape without specifying how to calculate its area. It serves as a blueprint for concrete shape classes. The Circle and Square classes are concrete subclasses of the Shape class, where each class provides its own implementation of the area() method based on its specific shape.\n",
    "\n",
    "With abstraction, we can create a generic Shape class without specifying the implementation details for calculating the area. Concrete subclasses, such as Circle and Square, provide their own implementations, and the client code interacts with the shapes using the abstract Shape interface, without worrying about the internal calculations of each shape. This simplifies the code and promotes flexibility and modularity."
   ]
  },
  {
   "cell_type": "markdown",
   "metadata": {},
   "source": [
    "### Q2. Differentiate between Abstraction and Encapsulation. Explain with an example.\n",
    "\n"
   ]
  },
  {
   "cell_type": "markdown",
   "metadata": {},
   "source": [
    "- Abstraction:\n",
    "Abstraction is a concept that focuses on hiding the unnecessary details of an object while exposing only the relevant features. It allows you to create simplified representations of objects and their behavior, making the code easier to understand and use. Abstraction is achieved using abstract classes and interfaces, where you define the structure and contract of the object without specifying its actual implementation."
   ]
  },
  {
   "cell_type": "code",
   "execution_count": 2,
   "metadata": {},
   "outputs": [
    {
     "name": "stdout",
     "output_type": "stream",
     "text": [
      "Area: 78.5\n",
      "Area: 16\n"
     ]
    }
   ],
   "source": [
    "# Example of Abstraction:\n",
    "\n",
    "from abc import ABC, abstractmethod\n",
    "\n",
    "# Abstract class with an abstract method\n",
    "class Shape(ABC):\n",
    "    @abstractmethod\n",
    "    def area(self):\n",
    "        pass\n",
    "\n",
    "# Concrete subclass of the abstract class\n",
    "class Circle(Shape):\n",
    "    def __init__(self, radius):\n",
    "        self.radius = radius\n",
    "\n",
    "    def area(self):\n",
    "        return 3.14 * self.radius**2\n",
    "\n",
    "# Concrete subclass of the abstract class\n",
    "class Square(Shape):\n",
    "    def __init__(self, side):\n",
    "        self.side = side\n",
    "\n",
    "    def area(self):\n",
    "        return self.side**2\n",
    "\n",
    "# Using the abstract Shape class\n",
    "def print_area(shape):\n",
    "    print(\"Area:\", shape.area())\n",
    "\n",
    "# Creating instances of the subclasses\n",
    "circle = Circle(5)\n",
    "square = Square(4)\n",
    "\n",
    "# Using the print_area function with different shapes\n",
    "print_area(circle)\n",
    "print_area(square)"
   ]
  },
  {
   "cell_type": "markdown",
   "metadata": {},
   "source": [
    "In this example, the abstract class Shape defines the concept of a shape and the abstract method area() without specifying how to calculate the area. Concrete subclasses like Circle and Square provide their own implementations for the area() method, hiding the specific calculations. The print_area() function uses the abstraction provided by the abstract Shape class to calculate and print the area of different shapes without needing to know their specific details."
   ]
  },
  {
   "cell_type": "markdown",
   "metadata": {},
   "source": [
    "- Encapsulation:\n",
    "Encapsulation is the process of bundling data (attributes) and methods (functions) that operate on the data within a single unit, i.e., the class. The internal details of the class are hidden from the outside, and only the necessary information is exposed through well-defined interfaces (public methods). Encapsulation provides data hiding, which helps in protecting the integrity of the data and prevents unauthorized access, ensuring that the data can be manipulated only through the defined methods."
   ]
  },
  {
   "cell_type": "code",
   "execution_count": 3,
   "metadata": {},
   "outputs": [
    {
     "name": "stdout",
     "output_type": "stream",
     "text": [
      "Account Balance: 1000\n",
      "Updated Balance: 1500\n",
      "Insufficient funds.\n"
     ]
    }
   ],
   "source": [
    "# Example of Encapsulation:\n",
    "\n",
    "class BankAccount:\n",
    "    def __init__(self, account_number, balance):\n",
    "        self._account_number = account_number\n",
    "        self._balance = balance\n",
    "\n",
    "    def get_balance(self):\n",
    "        return self._balance\n",
    "\n",
    "    def deposit(self, amount):\n",
    "        self._balance += amount\n",
    "\n",
    "    def withdraw(self, amount):\n",
    "        if amount <= self._balance:\n",
    "            self._balance -= amount\n",
    "        else:\n",
    "            print(\"Insufficient funds.\")\n",
    "\n",
    "# Creating an instance of the BankAccount class\n",
    "account = BankAccount(\"123456789\", 1000)\n",
    "\n",
    "# Accessing and modifying account balance using public methods\n",
    "print(\"Account Balance:\", account.get_balance()) \n",
    "account.deposit(500)\n",
    "print(\"Updated Balance:\", account.get_balance()) \n",
    "account.withdraw(2000) \n"
   ]
  },
  {
   "cell_type": "markdown",
   "metadata": {},
   "source": [
    "### Q3. What is abc module in python? Why is it used?"
   ]
  },
  {
   "cell_type": "markdown",
   "metadata": {},
   "source": [
    "- In Python, the abc module stands for \"Abstract Base Classes.\" It provides support for creating abstract classes and interfaces, which are classes that cannot be instantiated on their own but can be used as blueprints for creating concrete subclasses.\n",
    "\n",
    "- The primary purpose of the abc module is to support abstraction and define a common interface that concrete classes must follow. Abstract classes can have abstract methods, which are method declarations without any implementation. Concrete subclasses of abstract classes must provide implementations for all the abstract methods, ensuring that they adhere to the contract defined by the abstract class."
   ]
  },
  {
   "cell_type": "markdown",
   "metadata": {},
   "source": [
    "### Q4. How can we achieve data abstraction?"
   ]
  },
  {
   "cell_type": "markdown",
   "metadata": {},
   "source": [
    "- Data abstraction in Python can be achieved through the use of abstract classes and interfaces. Abstract classes are classes that cannot be instantiated on their own and may contain abstract methods, which are method declarations without any implementation. Concrete subclasses of an abstract class must provide implementations for all the abstract methods.\n",
    "\n",
    "To achieve data abstraction:\n",
    "\n",
    "1. Use the abc module to define abstract classes and methods.\n",
    "\n",
    "2. Define an abstract class with abstract methods that represent the desired interface for data access and manipulation.\n",
    "\n",
    "3. Create concrete subclasses that inherit from the abstract class and implement the abstract methods."
   ]
  },
  {
   "cell_type": "markdown",
   "metadata": {},
   "source": [
    "### Q5. Can we create an instance of an abstract class? Explain your answer.\n",
    "\n"
   ]
  },
  {
   "cell_type": "markdown",
   "metadata": {},
   "source": [
    "- No, we cannot create an instance of an abstract class in Python. An abstract class is a class that contains one or more abstract methods, which are method declarations without any implementation. The primary purpose of an abstract class is to serve as a blueprint for concrete subclasses, providing a common interface that those subclasses must adhere to.\n",
    "\n"
   ]
  },
  {
   "cell_type": "code",
   "execution_count": 4,
   "metadata": {},
   "outputs": [
    {
     "ename": "TypeError",
     "evalue": "Can't instantiate abstract class Shape with abstract method area",
     "output_type": "error",
     "traceback": [
      "\u001b[1;31m---------------------------------------------------------------------------\u001b[0m",
      "\u001b[1;31mTypeError\u001b[0m                                 Traceback (most recent call last)",
      "Cell \u001b[1;32mIn[4], line 12\u001b[0m\n\u001b[0;32m      9\u001b[0m         \u001b[39mpass\u001b[39;00m\n\u001b[0;32m     11\u001b[0m \u001b[39m# Try to create an instance of the abstract class (Shape)\u001b[39;00m\n\u001b[1;32m---> 12\u001b[0m shape \u001b[39m=\u001b[39m Shape() \n",
      "\u001b[1;31mTypeError\u001b[0m: Can't instantiate abstract class Shape with abstract method area"
     ]
    }
   ],
   "source": [
    "# Here's an example to illustrate that we cannot create an instance of an abstract class:\n",
    "\n",
    "from abc import ABC, abstractmethod\n",
    "\n",
    "# Abstract class with an abstract method\n",
    "class Shape(ABC):\n",
    "    @abstractmethod\n",
    "    def area(self):\n",
    "        pass\n",
    "\n",
    "# Try to create an instance of the abstract class (Shape)\n",
    "shape = Shape() \n"
   ]
  },
  {
   "cell_type": "markdown",
   "metadata": {},
   "source": [
    "In this example, attempting to create an instance of the Shape abstract class directly results in a TypeError. The error message indicates that we cannot instantiate the abstract class because it contains abstract methods that do not have any implementation."
   ]
  },
  {
   "cell_type": "markdown",
   "metadata": {},
   "source": []
  }
 ],
 "metadata": {
  "kernelspec": {
   "display_name": "Python 3",
   "language": "python",
   "name": "python3"
  },
  "language_info": {
   "codemirror_mode": {
    "name": "ipython",
    "version": 3
   },
   "file_extension": ".py",
   "mimetype": "text/x-python",
   "name": "python",
   "nbconvert_exporter": "python",
   "pygments_lexer": "ipython3",
   "version": "3.11.2"
  },
  "orig_nbformat": 4
 },
 "nbformat": 4,
 "nbformat_minor": 2
}
