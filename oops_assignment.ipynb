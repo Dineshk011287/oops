{
 "cells": [
  {
   "cell_type": "markdown",
   "metadata": {},
   "source": [
    "### Q1. Create a vehicle class with an init method having instance variables as name_of_vehicle, max_speed and average_of_vehicle."
   ]
  },
  {
   "cell_type": "code",
   "execution_count": 1,
   "metadata": {},
   "outputs": [],
   "source": [
    "class Vehicle:\n",
    "    def __init__(self, name_of_vehicle, max_speed, average_of_vehicle):\n",
    "        self.name_of_vehicle = name_of_vehicle\n",
    "        self.max_speed = max_speed\n",
    "        self.average_of_vehicle = average_of_vehicle\n"
   ]
  },
  {
   "cell_type": "code",
   "execution_count": 2,
   "metadata": {},
   "outputs": [
    {
     "name": "stdout",
     "output_type": "stream",
     "text": [
      "Car\n",
      "200\n",
      "40\n"
     ]
    }
   ],
   "source": [
    "car = Vehicle(\"Car\", 200, 40)\n",
    "\n",
    "print(car.name_of_vehicle) \n",
    "print(car.max_speed)     \n",
    "print(car.average_of_vehicle)\n"
   ]
  },
  {
   "cell_type": "markdown",
   "metadata": {},
   "source": [
    "### Q2. Create a child class car from the vehicle class created in Que 1, which will inherit the vehicle class. Create a method named seating_capacity which takes capacity as an argument and returns the name of the vehicle and its seating capacity."
   ]
  },
  {
   "cell_type": "code",
   "execution_count": 3,
   "metadata": {},
   "outputs": [],
   "source": [
    "class Vehicle:\n",
    "    def __init__(self, name_of_vehicle, max_speed, average_of_vehicle):\n",
    "        self.name_of_vehicle = name_of_vehicle\n",
    "        self.max_speed = max_speed\n",
    "        self.average_of_vehicle = average_of_vehicle\n",
    "\n",
    "class Car(Vehicle):\n",
    "    def seating_capacity(self, capacity):\n",
    "        return f\"{self.name_of_vehicle} has a seating capacity of {capacity} passengers.\"\n"
   ]
  },
  {
   "cell_type": "code",
   "execution_count": 4,
   "metadata": {},
   "outputs": [
    {
     "name": "stdout",
     "output_type": "stream",
     "text": [
      "Toyota Camry has a seating capacity of 5 passengers.\n"
     ]
    }
   ],
   "source": [
    "car1 = Car(\"Toyota Camry\", 180, 35)\n",
    "\n",
    "capacity_info = car1.seating_capacity(5)\n",
    "print(capacity_info)\n"
   ]
  },
  {
   "cell_type": "markdown",
   "metadata": {},
   "source": [
    "### Q3. What is multiple inheritance? Write a python code to demonstrate multiple inheritance."
   ]
  },
  {
   "cell_type": "markdown",
   "metadata": {},
   "source": [
    "- Multiple inheritance is a feature that allows a class to inherit from more than one base class. In multiple inheritance, a child class can inherit attributes and methods from multiple parent classes."
   ]
  },
  {
   "cell_type": "code",
   "execution_count": 5,
   "metadata": {},
   "outputs": [
    {
     "name": "stdout",
     "output_type": "stream",
     "text": [
      "Species: Parrot\n",
      "Can fly? True\n",
      "Chirp chirp!\n",
      "Flying high!\n"
     ]
    }
   ],
   "source": [
    "# Parent class 1\n",
    "class Animal:\n",
    "    def __init__(self, species):\n",
    "        self.species = species\n",
    "\n",
    "    def make_sound(self):\n",
    "        pass\n",
    "\n",
    "# Parent class 2\n",
    "class FlyingCreature:\n",
    "    def __init__(self, can_fly):\n",
    "        self.can_fly = can_fly\n",
    "\n",
    "    def fly(self):\n",
    "        pass\n",
    "\n",
    "# Child class inheriting from both Animal and FlyingCreature\n",
    "class Bird(Animal, FlyingCreature):\n",
    "    def __init__(self, species, can_fly):\n",
    "        Animal.__init__(self, species)\n",
    "        FlyingCreature.__init__(self, can_fly)\n",
    "\n",
    "    def make_sound(self):\n",
    "        return \"Chirp chirp!\"\n",
    "\n",
    "    def fly(self):\n",
    "        return \"Flying high!\"\n",
    "\n",
    "# Creating an instance of the Bird class\n",
    "parrot = Bird(\"Parrot\", True)\n",
    "\n",
    "# Accessing attributes and methods from both parent classes\n",
    "print(f\"Species: {parrot.species}\")\n",
    "print(f\"Can fly? {parrot.can_fly}\")\n",
    "print(parrot.make_sound())\n",
    "print(parrot.fly())\n"
   ]
  },
  {
   "cell_type": "markdown",
   "metadata": {},
   "source": [
    "### Q4. What are getter and setter in python? Create a class and create a getter and a setter method in this class."
   ]
  },
  {
   "cell_type": "markdown",
   "metadata": {},
   "source": [
    "- Getter: A getter is a method used to retrieve the value of an attribute. It allows you to access the attribute's value without directly exposing the attribute itself.\n",
    "\n",
    "- Setter: A setter is a method used to set the value of an attribute. It allows you to modify the attribute's value while enforcing any validation rules before updating it."
   ]
  },
  {
   "cell_type": "code",
   "execution_count": 6,
   "metadata": {},
   "outputs": [
    {
     "name": "stdout",
     "output_type": "stream",
     "text": [
      "Name: Alice\n",
      "Age: 30\n",
      "Name: Bob\n",
      "Age: 25\n"
     ]
    }
   ],
   "source": [
    "class Person:\n",
    "    def __init__(self, name, age):\n",
    "        self._name = name\n",
    "        self._age = age\n",
    "\n",
    "    # Getter for the 'name' attribute\n",
    "    def get_name(self):\n",
    "        return self._name\n",
    "\n",
    "    # Getter for the 'age' attribute\n",
    "    def get_age(self):\n",
    "        return self._age\n",
    "\n",
    "    # Setter for the 'name' attribute\n",
    "    def set_name(self, name):\n",
    "        self._name = name\n",
    "\n",
    "    # Setter for the 'age' attribute\n",
    "    def set_age(self, age):\n",
    "        if age < 0:\n",
    "            raise ValueError(\"Age cannot be negative.\")\n",
    "        self._age = age\n",
    "\n",
    "# Creating an instance of the Person class\n",
    "person1 = Person(\"Alice\", 30)\n",
    "\n",
    "# Using the getter methods\n",
    "print(\"Name:\", person1.get_name())  \n",
    "print(\"Age:\", person1.get_age())    \n",
    "\n",
    "# Using the setter methods to modify the attributes\n",
    "person1.set_name(\"Bob\")\n",
    "person1.set_age(25)\n",
    "\n",
    "# Using the getter methods again to verify the changes\n",
    "print(\"Name:\", person1.get_name())  \n",
    "print(\"Age:\", person1.get_age())    \n"
   ]
  },
  {
   "cell_type": "markdown",
   "metadata": {},
   "source": [
    "### Q5.What is method overriding in python? Write a python code to demonstrate method overriding."
   ]
  },
  {
   "cell_type": "markdown",
   "metadata": {},
   "source": [
    "- Method overriding is a concept where a subclass provides a specific implementation of a method that is already defined in its superclass. \n",
    "- When a method is overridden, the subclass's version of the method takes precedence over the superclass's version, allowing the subclass to customize or extend the behavior of the inherited method."
   ]
  },
  {
   "cell_type": "code",
   "execution_count": 7,
   "metadata": {},
   "outputs": [
    {
     "name": "stdout",
     "output_type": "stream",
     "text": [
      "Generic animal sound\n",
      "Meow\n"
     ]
    }
   ],
   "source": [
    "class Animal:\n",
    "    def make_sound(self):\n",
    "        return \"Generic animal sound\"\n",
    "\n",
    "class Cat(Animal):\n",
    "    def make_sound(self):\n",
    "        return \"Meow\"\n",
    "\n",
    "# Creating instances of the classes\n",
    "animal = Animal()\n",
    "cat = Cat()\n",
    "\n",
    "# Calling the make_sound() method on the instances\n",
    "print(animal.make_sound())  \n",
    "print(cat.make_sound())     \n"
   ]
  }
 ],
 "metadata": {
  "kernelspec": {
   "display_name": "Python 3",
   "language": "python",
   "name": "python3"
  },
  "language_info": {
   "codemirror_mode": {
    "name": "ipython",
    "version": 3
   },
   "file_extension": ".py",
   "mimetype": "text/x-python",
   "name": "python",
   "nbconvert_exporter": "python",
   "pygments_lexer": "ipython3",
   "version": "3.11.2"
  },
  "orig_nbformat": 4
 },
 "nbformat": 4,
 "nbformat_minor": 2
}
