{
 "cells": [
  {
   "cell_type": "markdown",
   "metadata": {},
   "source": [
    "### Q1. Explain Class and Object with respect to Object-Oriented Programming. Give a suitable example."
   ]
  },
  {
   "cell_type": "markdown",
   "metadata": {},
   "source": [
    "- Class:\n",
    "A class is a blueprint or a template for creating objects. It defines the attributes (data members) and methods (functions) that the objects of that class will have. Think of a class as a blueprint that describes the common properties and behaviors of a group of objects. It provides a set of attributes and methods that represent the characteristics and actions of those objects."
   ]
  },
  {
   "cell_type": "code",
   "execution_count": 1,
   "metadata": {},
   "outputs": [],
   "source": [
    "class Dog:\n",
    "    def __init__(self, name, age):\n",
    "        self.name = name\n",
    "        self.age = age\n",
    "\n",
    "    def bark(self):\n",
    "        return \"Woof!\"\n",
    "\n",
    "# The 'Dog' class is a blueprint for creating Dog objects. It has two attributes: 'name' and 'age', and a method 'bark'.\n"
   ]
  },
  {
   "cell_type": "markdown",
   "metadata": {},
   "source": [
    "- Object:\n",
    "An object is an instance of a class, created based on the blueprint defined by the class. When instantiate a class, create an object of that class. Each object is a separate entity with its own set of attributes and methods. Objects are the actual entities that interact with the program, and they encapsulate data and behavior defined in their class."
   ]
  },
  {
   "cell_type": "code",
   "execution_count": 2,
   "metadata": {},
   "outputs": [],
   "source": [
    "# Creating objects of the 'Dog' class\n",
    "dog1 = Dog(\"Buddy\", 3)\n",
    "dog2 = Dog(\"Max\", 5)\n",
    "\n",
    "# 'dog1' and 'dog2' are two separate objects created from the 'Dog' class.\n",
    "# They have their own unique 'name' and 'age' attributes and can call the 'bark()' method.\n"
   ]
  },
  {
   "cell_type": "markdown",
   "metadata": {},
   "source": [
    "### Q2. Name the four pillars of OOPs."
   ]
  },
  {
   "cell_type": "markdown",
   "metadata": {},
   "source": [
    "The four pillars of Object-Oriented Programming (OOP) are:\n",
    "\n",
    "- Encapsulation:\n",
    "Encapsulation is the process of bundling data (attributes) and methods (functions) that operate on the data within a single unit, i.e., the class. The internal details of the class are hidden from the outside, and only the necessary information is exposed through well-defined interfaces (public methods). Encapsulation provides data hiding, which helps in protecting the integrity of the data and prevents unauthorized access, ensuring that the data can be manipulated only through the defined methods.\n",
    "\n",
    "- Abstraction:\n",
    "Abstraction refers to the concept of creating a simplified representation of an object that hides its complex internal details and shows only the relevant features. It allows to focus on the essential characteristics of an object, ignoring the irrelevant complexities. In OOP, abstraction is achieved through abstract classes and interfaces, where define the structure and contract of the object without specifying its actual implementation.\n",
    "\n",
    "- Inheritance:\n",
    "Inheritance is a mechanism that allows a class (subclass or derived class) to inherit the attributes and methods of another class (superclass or base class). It enables code reuse and the creation of a hierarchical relationship between classes. The subclass inherits the properties of the superclass and can extend or override its behavior. Inheritance supports the \"is-a\" relationship, where a subclass is a specialized version of the superclass.\n",
    "\n",
    "- Polymorphism:\n",
    "Polymorphism is the ability of a class to take on multiple forms or the ability to use a single interface to represent different types of objects. There are two types of polymorphism in OOP:\n",
    "\n",
    "- Compile-time (or method overloading) polymorphism: This occurs when multiple methods have the same name but different parameters. The appropriate method is determined at compile-time based on the method signature.\n",
    "\n",
    "- Run-time (or method overriding) polymorphism: This occurs when a subclass provides a specific implementation of a method that is already defined in its superclass. The method to be executed is determined at run-time based on the actual object type."
   ]
  },
  {
   "cell_type": "markdown",
   "metadata": {},
   "source": [
    "### Q3. Explain why the __init__() function is used. Give a suitable example."
   ]
  },
  {
   "cell_type": "markdown",
   "metadata": {},
   "source": [
    "- The __init__() function, also known as the constructor, is a special method in Python classes. It is automatically called when create a new instance (object) of a class. The primary purpose of the __init__() function is to initialize the attributes (data members) of the object and perform any setup that is required before the object is ready for use."
   ]
  },
  {
   "cell_type": "code",
   "execution_count": 3,
   "metadata": {},
   "outputs": [
    {
     "name": "stdout",
     "output_type": "stream",
     "text": [
      "Hi, my name is Alice, and I am 30 years old.\n",
      "Hi, my name is Bob, and I am 25 years old.\n"
     ]
    }
   ],
   "source": [
    "class Person:\n",
    "    def __init__(self, name, age):\n",
    "        self.name = name\n",
    "        self.age = age\n",
    "\n",
    "    def introduce(self):\n",
    "        return f\"Hi, my name is {self.name}, and I am {self.age} years old.\"\n",
    "\n",
    "# Creating objects of the 'Person' class\n",
    "person1 = Person(\"Alice\", 30)\n",
    "person2 = Person(\"Bob\", 25)\n",
    "\n",
    "# Calling the 'introduce()' method on the objects\n",
    "print(person1.introduce())  \n",
    "print(person2.introduce()) \n"
   ]
  },
  {
   "cell_type": "markdown",
   "metadata": {},
   "source": [
    "### Q4. Why self is used in OOPs?"
   ]
  },
  {
   "cell_type": "markdown",
   "metadata": {},
   "source": [
    "- In Object-Oriented Programming, self is a conventional name for the first parameter of instance methods in Python classes. It represents the instance (object) itself that the method is called upon. When define a method in a class, need to include self as the first parameter in the method's definition. However, when call the method on an object, do not need to pass the self parameter explicitly; Python handles it automatically."
   ]
  },
  {
   "cell_type": "markdown",
   "metadata": {},
   "source": [
    "### Q5. What is inheritance? Give an example for each type of inheritance."
   ]
  },
  {
   "cell_type": "markdown",
   "metadata": {},
   "source": [
    "- Inheritance is a fundamental concept in object-oriented programming (OOP) that allows a class (subclass or derived class) to inherit attributes and methods from another class (superclass or base class). Inheritance promotes code reusability and the creation of hierarchical relationships between classes, where subclasses can extend or override the behavior of the superclass."
   ]
  },
  {
   "cell_type": "markdown",
   "metadata": {},
   "source": [
    "There are different types of inheritance in OOP:\n",
    "\n",
    "- Single Inheritance:\n",
    "In single inheritance, a class inherits from only one superclass. It forms a simple parent-child relationship, where the child class inherits the attributes and methods of the parent class."
   ]
  },
  {
   "cell_type": "code",
   "execution_count": 4,
   "metadata": {},
   "outputs": [
    {
     "name": "stdout",
     "output_type": "stream",
     "text": [
      "Woof!\n"
     ]
    }
   ],
   "source": [
    "class Animal:\n",
    "    def sound(self):\n",
    "        return \"Generic animal sound\"\n",
    "\n",
    "class Dog(Animal):\n",
    "    def sound(self):\n",
    "        return \"Woof!\"\n",
    "\n",
    "# Creating an instance of the Dog class\n",
    "dog = Dog()\n",
    "\n",
    "# Calling the 'sound()' method on the Dog instance\n",
    "print(dog.sound()) \n"
   ]
  },
  {
   "cell_type": "markdown",
   "metadata": {},
   "source": [
    "- Multiple Inheritance:\n",
    "Multiple inheritance allows a class to inherit from more than one superclass. It enables the subclass to combine the attributes and methods of multiple parent classes."
   ]
  },
  {
   "cell_type": "code",
   "execution_count": 5,
   "metadata": {},
   "outputs": [
    {
     "name": "stdout",
     "output_type": "stream",
     "text": [
      "Flying high!\n",
      "Swimming gracefully!\n"
     ]
    }
   ],
   "source": [
    "class Flyable:\n",
    "    def fly(self):\n",
    "        return \"Flying high!\"\n",
    "\n",
    "class Swimmable:\n",
    "    def swim(self):\n",
    "        return \"Swimming gracefully!\"\n",
    "\n",
    "class Bird(Flyable, Swimmable):\n",
    "    pass\n",
    "\n",
    "# Creating an instance of the Bird class\n",
    "bird = Bird()\n",
    "\n",
    "# Calling methods inherited from Flyable and Swimmable\n",
    "print(bird.fly())\n",
    "print(bird.swim())\n"
   ]
  },
  {
   "cell_type": "markdown",
   "metadata": {},
   "source": [
    "- Multilevel Inheritance:\n",
    "In multilevel inheritance, a class inherits from another class, and that class, in turn, inherits from another class. It forms a chain of inheritance, where the subclass has access to the attributes and methods of all its ancestor classes."
   ]
  },
  {
   "cell_type": "code",
   "execution_count": 6,
   "metadata": {},
   "outputs": [
    {
     "name": "stdout",
     "output_type": "stream",
     "text": [
      "Woof!\n"
     ]
    }
   ],
   "source": [
    "class Animal:\n",
    "    def sound(self):\n",
    "        return \"Generic animal sound\"\n",
    "\n",
    "class Dog(Animal):\n",
    "    def sound(self):\n",
    "        return \"Woof!\"\n",
    "\n",
    "class Bulldog(Dog):\n",
    "    pass\n",
    "\n",
    "# Creating an instance of the Bulldog class\n",
    "bulldog = Bulldog()\n",
    "\n",
    "# Calling the 'sound()' method inherited from the Animal class through Dog class\n",
    "print(bulldog.sound())  \n"
   ]
  }
 ],
 "metadata": {
  "kernelspec": {
   "display_name": "Python 3",
   "language": "python",
   "name": "python3"
  },
  "language_info": {
   "codemirror_mode": {
    "name": "ipython",
    "version": 3
   },
   "file_extension": ".py",
   "mimetype": "text/x-python",
   "name": "python",
   "nbconvert_exporter": "python",
   "pygments_lexer": "ipython3",
   "version": "3.11.2"
  },
  "orig_nbformat": 4
 },
 "nbformat": 4,
 "nbformat_minor": 2
}
